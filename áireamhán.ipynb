{
 "cells": [
  {
   "cell_type": "code",
   "execution_count": 1,
   "metadata": {
    "collapsed": false,
    "slideshow": {
     "slide_type": "notes"
    }
   },
   "outputs": [],
   "source": [
    "%config InlineBackend.figure_format = 'retina'"
   ]
  },
  {
   "cell_type": "markdown",
   "metadata": {
    "slideshow": {
     "slide_type": "slide"
    }
   },
   "source": [
    "# How to make a programming language\n",
    "---\n",
    "PyCon Dublin $22^{\\textrm {nd}}$ Oct 2017"
   ]
  },
  {
   "cell_type": "markdown",
   "metadata": {
    "slideshow": {
     "slide_type": "slide"
    }
   },
   "source": [
    "# How to make a Lisp"
   ]
  },
  {
   "cell_type": "markdown",
   "metadata": {
    "slideshow": {
     "slide_type": "fragment"
    }
   },
   "source": [
    "# How to make a Lisp *as Gaeilge*\n"
   ]
  },
  {
   "cell_type": "markdown",
   "metadata": {
    "slideshow": {
     "slide_type": "fragment"
    }
   },
   "source": [
    "# ```(map Gaeilge (define x '(Lisp))```"
   ]
  },
  {
   "cell_type": "markdown",
   "metadata": {
    "slideshow": {
     "slide_type": "slide"
    }
   },
   "source": [
    "# ``` $ whoami```\n",
    "---\n",
    "\n",
    "<img src=\"imgs/me.jpg\" width=\"35%\" align=\"right\"> \n",
    "\n",
    " * Neal Ó Riain is ainm dom.\n",
    " \n",
    "<br>\n",
    " \n",
    " * Former Astrophysicist (🔭, 🚀, 🌝)\n",
    " \n",
    " \n",
    "<br> \n",
    " \n",
    " * Current Data Scientist at Amazon.\n",
    " \n",
    " "
   ]
  },
  {
   "cell_type": "markdown",
   "metadata": {
    "slideshow": {
     "slide_type": "slide"
    }
   },
   "source": [
    "<img src=\"imgs/aireamhan.png\" width=\"100%\" align=\"right\"> \n"
   ]
  },
  {
   "cell_type": "markdown",
   "metadata": {
    "slideshow": {
     "slide_type": "slide"
    }
   },
   "source": [
    "# Outline\n",
    "---\n",
    "\n",
    " * What is a Lisp, and why?\n",
    " \n",
    "<br>\n",
    " \n",
    " * Where did it come from?\n",
    " \n",
    "<br> \n",
    " \n",
    " * Some Lisp\n",
    "\n",
    "<br> \n",
    " \n",
    " * Some Python\n",
    "\n",
    "<br> \n",
    " \n",
    " * Some Áireamhán\n",
    " "
   ]
  },
  {
   "cell_type": "markdown",
   "metadata": {
    "slideshow": {
     "slide_type": "slide"
    }
   },
   "source": [
    "<center>\n",
    "<H1> What is a Lisp and why? <H1>\n",
    "</center>"
   ]
  },
  {
   "cell_type": "markdown",
   "metadata": {
    "slideshow": {
     "slide_type": "subslide"
    }
   },
   "source": [
    "<center>\n",
    "<H1> <i>A</i> Lisp <H1>\n",
    "</center>"
   ]
  },
  {
   "cell_type": "markdown",
   "metadata": {
    "slideshow": {
     "slide_type": "fragment"
    }
   },
   "source": [
    "<center>\n",
    "<H1> Lisp is a paradigm for programming<H1>\n",
    "</center>"
   ]
  },
  {
   "cell_type": "markdown",
   "metadata": {
    "slideshow": {
     "slide_type": "subslide"
    }
   },
   "source": [
    "\n",
    "<img src=\"imgs/jmc.jpg\" width=\"100%\">"
   ]
  },
  {
   "cell_type": "markdown",
   "metadata": {
    "slideshow": {
     "slide_type": "subslide"
    }
   },
   "source": [
    "<img src=\"imgs/card.gif\" width=\"100%\" align=\"center\"> \n"
   ]
  },
  {
   "cell_type": "markdown",
   "metadata": {
    "slideshow": {
     "slide_type": "subslide"
    }
   },
   "source": [
    "```Fortran\n",
    "      DOUBLE PRECISION DTEMP\n",
    "      INTEGER I,IX,IY\n",
    "*     ..\n",
    "      IF (N.LE.0) RETURN\n",
    "      IF (INCX.EQ.1 .AND. INCY.EQ.1) GO TO 20\n",
    "*\n",
    "*       code for unequal increments or equal increments not equal\n",
    "*         to 1\n",
    "*\n",
    "      IX = 1\n",
    "      IY = 1\n",
    "      IF (INCX.LT.0) IX = (-N+1)*INCX + 1\n",
    "      IF (INCY.LT.0) IY = (-N+1)*INCY + 1\n",
    "      DO 10 I = 1,N\n",
    "          DTEMP = C*DX(IX) + S*DY(IY)\n",
    "          DY(IY) = C*DY(IY) - S*DX(IX)\n",
    "          DX(IX) = DTEMP\n",
    "          IX = IX + INCX\n",
    "          IY = IY + INCY\n",
    "   10 CONTINUE\n",
    "      RETURN\n",
    "*\n",
    "*       code for both increments equal to 1\n",
    "*\n",
    "   20 DO 30 I = 1,N\n",
    "          DTEMP = C*DX(I) + S*DY(I)\n",
    "          DY(I) = C*DY(I) - S*DX(I)\n",
    "          DX(I) = DTEMP\n",
    "   30 CONTINUE\n",
    "      RETURN\n",
    "END\n",
    "```"
   ]
  },
  {
   "cell_type": "markdown",
   "metadata": {
    "slideshow": {
     "slide_type": "subslide"
    }
   },
   "source": [
    "<center>\n",
    "<H1> Conditionals! <H1>\n",
    "<H1> Recursion! <H1>\n",
    "<H1> First-class functions! <H1>\n",
    "</center>"
   ]
  },
  {
   "cell_type": "markdown",
   "metadata": {
    "slideshow": {
     "slide_type": "slide"
    }
   },
   "source": [
    "<center>\n",
    "<H1> A look at Lisp <H1>\n",
    "</center>"
   ]
  },
  {
   "cell_type": "markdown",
   "metadata": {
    "slideshow": {
     "slide_type": "fragment"
    }
   },
   "source": [
    "<center>\n",
    "<H1> <code>()</code><H1>\n",
    "</center>"
   ]
  },
  {
   "cell_type": "markdown",
   "metadata": {
    "slideshow": {
     "slide_type": "subslide"
    }
   },
   "source": [
    "<img src=\"imgs/xkcd.png\" width=\"100%\" align=\"center\"> "
   ]
  },
  {
   "cell_type": "markdown",
   "metadata": {
    "slideshow": {
     "slide_type": "subslide"
    }
   },
   "source": [
    "<center>\n",
    "<H1> quote / athfhriotal <H1>\n",
    "<code>(quote (1 2 3)) => (1 2 3)</code>\n",
    "</center>"
   ]
  },
  {
   "cell_type": "markdown",
   "metadata": {
    "slideshow": {
     "slide_type": "subslide"
    }
   },
   "source": [
    "<center>\n",
    "<H1> atom / adamh? <H1>\n",
    "<code>(atom ()) => true</code>\n",
    "</center>"
   ]
  },
  {
   "cell_type": "markdown",
   "metadata": {
    "slideshow": {
     "slide_type": "subslide"
    }
   },
   "source": [
    "<center>\n",
    "<H1> eq / cothrom_le? <H1>\n",
    "<code>(eq () ()) => true</code>\n",
    "</center>"
   ]
  },
  {
   "cell_type": "markdown",
   "metadata": {
    "slideshow": {
     "slide_type": "subslide"
    }
   },
   "source": [
    "<center>\n",
    "<H1> car / ceann <H1>\n",
    "<code>(car (quote (1 2 3))) => 1</code>\n",
    "</center>"
   ]
  },
  {
   "cell_type": "markdown",
   "metadata": {
    "slideshow": {
     "slide_type": "subslide"
    }
   },
   "source": [
    "<center>\n",
    "<H1> cdr / tóin <H1>\n",
    "<code>(cdr (quote (1 2 3))) => (2 3)</code>\n",
    "</center>"
   ]
  },
  {
   "cell_type": "markdown",
   "metadata": {
    "slideshow": {
     "slide_type": "subslide"
    }
   },
   "source": [
    "<center>\n",
    "<H1> cons / cons <H1>\n",
    "<code>(cons 1 ()) => (1)</code>\n",
    "</center>"
   ]
  },
  {
   "cell_type": "markdown",
   "metadata": {
    "slideshow": {
     "slide_type": "subslide"
    }
   },
   "source": [
    "<center>\n",
    "<H1> if / má </H1>\n",
    "<H1><code>(if cond expr1 expr2)</code></H1>\n",
    "</center>"
   ]
  },
  {
   "cell_type": "markdown",
   "metadata": {
    "slideshow": {
     "slide_type": "subslide"
    }
   },
   "source": [
    "<center>\n",
    "<H1> lambda / lambda </H1>\n",
    "<H1><code>((lambda (args) expr) (env))</code></H1>\n",
    "</center>"
   ]
  },
  {
   "cell_type": "markdown",
   "metadata": {
    "slideshow": {
     "slide_type": "subslide"
    }
   },
   "source": [
    "<center>\n",
    "<H1> So what who cares? <H1>\n",
    "</center>"
   ]
  },
  {
   "cell_type": "markdown",
   "metadata": {
    "slideshow": {
     "slide_type": "fragment"
    }
   },
   "source": [
    "<center>\n",
    "<H1><code>Code == Data</code><H1>\n",
    "</center>"
   ]
  },
  {
   "cell_type": "markdown",
   "metadata": {
    "slideshow": {
     "slide_type": "subslide"
    }
   },
   "source": [
    "\n",
    "<img src=\"imgs/eval.png\" align=\"center\"> "
   ]
  },
  {
   "cell_type": "code",
   "execution_count": 7,
   "metadata": {
    "collapsed": false,
    "slideshow": {
     "slide_type": "slide"
    }
   },
   "outputs": [
    {
     "name": "stdout",
     "output_type": "stream",
     "text": [
      "(, \"car (quote (1 2 3)))\"\n",
      "car, \" (quote (1 2 3)))\"\n",
      "(, \"quote (1 2 3)))\"\n",
      "quote, \" (1 2 3)))\"\n",
      "(, \"1 2 3)))\"\n",
      "1, \" 2 3)))\"\n",
      "2, \" 3)))\"\n",
      "3, \")))\"\n",
      "), \"))\"\n",
      "), \")\"\n",
      "), \"\"\n"
     ]
    }
   ],
   "source": [
    "line = '(car (quote (1 2 3)))'\n",
    "\n",
    "import re\n",
    "tokenizer = r\"\"\"\\s*([(')]|\"(?:[\\\\].|[^\\\\\"])*\"|;.*|[^\\s('\";)]*)(.*)\"\"\"\n",
    "\n",
    "for i in range(11):\n",
    "    char, line = re.match(tokenizer, line).groups()\n",
    "    print('{}, \"{}\"'.format(char, line))\n"
   ]
  },
  {
   "cell_type": "code",
   "execution_count": 1,
   "metadata": {
    "collapsed": true,
    "slideshow": {
     "slide_type": "skip"
    }
   },
   "outputs": [],
   "source": [
    "import re\n",
    "\n",
    "class line_obj(object):\n",
    "\n",
    "    tokenizer = r\"\"\"\\s*([(')]|\"(?:[\\\\].|[^\\\\\"])*\"|;.*|[^\\s('\";)]*)(.*)\"\"\"\n",
    "\n",
    "    def __init__(self,  line):\n",
    "        self.line = line\n",
    "\n",
    "    def next_token(self):\n",
    "        while True:\n",
    "            token, self.line = re.match(line_obj.tokenizer, self.line).groups()\n",
    "\n",
    "            return token"
   ]
  },
  {
   "cell_type": "code",
   "execution_count": 8,
   "metadata": {
    "collapsed": false,
    "slideshow": {
     "slide_type": "subslide"
    }
   },
   "outputs": [
    {
     "name": "stdout",
     "output_type": "stream",
     "text": [
      "['car', ['quote', ['1', '2', '3']]]\n"
     ]
    }
   ],
   "source": [
    "def read(input_line):\n",
    "    def read_ahead(token):\n",
    "        if '(' == token:\n",
    "            L = []\n",
    "            while True:\n",
    "                token = input_line.next_token()\n",
    "                if token == ')':\n",
    "                    return L\n",
    "                else:\n",
    "                    L.append(read_ahead(token))\n",
    "        elif token == ')':\n",
    "            raise SyntaxError('BAD SYNTAX')\n",
    "        else:\n",
    "            return token\n",
    "\n",
    "    token1 = input_line.next_token()\n",
    "    return read_ahead(token1)\n",
    "\n",
    "tree = read(line_obj('(car (quote (1 2 3)))'))\n",
    "print(tree)"
   ]
  },
  {
   "cell_type": "code",
   "execution_count": 9,
   "metadata": {
    "collapsed": false,
    "slideshow": {
     "slide_type": "subslide"
    }
   },
   "outputs": [
    {
     "data": {
      "text/plain": [
       "'1'"
      ]
     },
     "execution_count": 9,
     "metadata": {},
     "output_type": "execute_result"
    }
   ],
   "source": [
    "def evaluate(tree):\n",
    "\n",
    "    if tree[0] == 'car':\n",
    "        return evaluate(tree[1])[0]\n",
    "\n",
    "    if tree[0] == 'quote':\n",
    "        return tree[1]\n",
    "    \n",
    "evaluate(tree)"
   ]
  },
  {
   "cell_type": "markdown",
   "metadata": {
    "slideshow": {
     "slide_type": "slide"
    }
   },
   "source": [
    "<center>\n",
    "<H1> Áireamhán Example! <H1>\n",
    "</center>"
   ]
  }
 ],
 "metadata": {
  "celltoolbar": "Slideshow",
  "kernelspec": {
   "display_name": "Python 3",
   "language": "python",
   "name": "python3"
  },
  "language_info": {
   "codemirror_mode": {
    "name": "ipython",
    "version": 3
   },
   "file_extension": ".py",
   "mimetype": "text/x-python",
   "name": "python",
   "nbconvert_exporter": "python",
   "pygments_lexer": "ipython3",
   "version": "3.6.0"
  }
 },
 "nbformat": 4,
 "nbformat_minor": 2
}
