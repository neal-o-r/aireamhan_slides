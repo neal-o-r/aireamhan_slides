{
 "cells": [
  {
   "cell_type": "code",
   "execution_count": 8,
   "metadata": {
    "collapsed": false,
    "slideshow": {
     "slide_type": "skip"
    }
   },
   "outputs": [],
   "source": [
    "%config InlineBackend.figure_format = 'retina'"
   ]
  },
  {
   "cell_type": "markdown",
   "metadata": {
    "slideshow": {
     "slide_type": "slide"
    }
   },
   "source": [
    "# How to make a programming language\n",
    "---\n",
    "PyCon Dublin $22^{\\textrm {nd}}$ Oct 2017"
   ]
  },
  {
   "cell_type": "markdown",
   "metadata": {
    "slideshow": {
     "slide_type": "slide"
    }
   },
   "source": [
    "# How to make a Lisp"
   ]
  },
  {
   "cell_type": "markdown",
   "metadata": {
    "slideshow": {
     "slide_type": "fragment"
    }
   },
   "source": [
    "# How to make a Lisp *as Gaeilge*\n"
   ]
  },
  {
   "cell_type": "markdown",
   "metadata": {
    "slideshow": {
     "slide_type": "fragment"
    }
   },
   "source": [
    "# ```(map Gaeilge (define x '(Lisp))```"
   ]
  },
  {
   "cell_type": "markdown",
   "metadata": {
    "slideshow": {
     "slide_type": "slide"
    }
   },
   "source": [
    "# ``` $ whoami```\n",
    "---\n",
    "\n",
    "<img src=\"imgs/me.jpg\" width=\"35%\" align=\"right\"> \n",
    "\n",
    " * Neal Ó Riain is ainm dom.\n",
    " \n",
    "<br>\n",
    " \n",
    " * Former Astrophysicist (🔭, 🚀, 🌝)\n",
    " \n",
    " \n",
    "<br> \n",
    " \n",
    " * Current Data Scientist at Amazon.\n",
    " \n",
    " "
   ]
  },
  {
   "cell_type": "markdown",
   "metadata": {
    "slideshow": {
     "slide_type": "slide"
    }
   },
   "source": [
    "<img src=\"imgs/aireamhan.png\" width=\"100%\" align=\"right\"> \n"
   ]
  },
  {
   "cell_type": "markdown",
   "metadata": {
    "slideshow": {
     "slide_type": "slide"
    }
   },
   "source": [
    "# Outline\n",
    "---\n",
    "\n",
    " * What is a Lisp, and why?\n",
    " \n",
    "<br>\n",
    " \n",
    " * Where did it come from?\n",
    " \n",
    "<br> \n",
    " \n",
    " * Some Lisp\n",
    "\n",
    "<br> \n",
    " \n",
    " * Some Python\n",
    "\n",
    "<br> \n",
    " \n",
    " * Some Áireamhán\n",
    " "
   ]
  },
  {
   "cell_type": "markdown",
   "metadata": {
    "slideshow": {
     "slide_type": "slide"
    }
   },
   "source": [
    "<center>\n",
    "<H1> What is a Lisp and why? <H1>\n",
    "</center>"
   ]
  },
  {
   "cell_type": "markdown",
   "metadata": {
    "slideshow": {
     "slide_type": "subslide"
    }
   },
   "source": [
    "<center>\n",
    "<H1> <i>A</i> Lisp <H1>\n",
    "</center>"
   ]
  },
  {
   "cell_type": "markdown",
   "metadata": {
    "slideshow": {
     "slide_type": "fragment"
    }
   },
   "source": [
    "<center>\n",
    "<H1> Lisp is a paradigm for programming<H1>\n",
    "</center>"
   ]
  },
  {
   "cell_type": "markdown",
   "metadata": {
    "slideshow": {
     "slide_type": "subslide"
    }
   },
   "source": [
    "\n",
    "<img src=\"imgs/jmc.jpg\" width=\"100%\">"
   ]
  },
  {
   "cell_type": "markdown",
   "metadata": {
    "slideshow": {
     "slide_type": "subslide"
    }
   },
   "source": [
    "<img src=\"imgs/card.gif\" width=\"100%\" align=\"center\"> \n"
   ]
  },
  {
   "cell_type": "markdown",
   "metadata": {
    "slideshow": {
     "slide_type": "subslide"
    }
   },
   "source": [
    "```Fortran\n",
    "C; PROGRAM TO SOLVE THE QUADRATIC EQUATION\n",
    "      READ 10,A,B,C\n",
    "      DISC = B*B-4*A*C\n",
    "      IF (DISC) 15,25,35\n",
    "  15; R = 0.0 - 0.5 * B/A\n",
    "      AI = 0.5 * SQTF(0.0-DISC)/A\n",
    "      PRINT 11,R,AI\n",
    "      GO TO 99\n",
    "  25; R = 0.0 - 0.5 * B/A\n",
    "      PRINT 21,R\n",
    "      GO TO 99\n",
    "  35; SD = SQTF(DISC)\n",
    "      R1 = 0.5*(SD-B)/A\n",
    "      R2 = 0.5*(0.0-(B+SD))/A\n",
    "      PRINT 31,R2,R1\n",
    "  99; STOP\n",
    "  10; FORMAT( 3F12.5 )\n",
    "  11; FORMAT( 19H TWO COMPLEX ROOTS:, F12.5,14H PLUS OR MINUS, '\n",
    "      F12.5, 2H I )\n",
    "  21; FORMAT( 15H ONE REAL ROOT:, F12.5 )\n",
    "  31; FORMAT( 16H TWO REAL ROOTS:, F12.5, 5H AND , F12.5 )\n",
    "      END                                                            \n",
    "```"
   ]
  },
  {
   "cell_type": "markdown",
   "metadata": {
    "slideshow": {
     "slide_type": "subslide"
    }
   },
   "source": [
    "<center>\n",
    "<H1> Conditionals! <H1>\n",
    "<H1> Recursion! <H1>\n",
    "<H1> First-class functions! <H1>\n",
    "</center>"
   ]
  },
  {
   "cell_type": "markdown",
   "metadata": {
    "slideshow": {
     "slide_type": "slide"
    }
   },
   "source": [
    "<center>\n",
    "<H1> A look at Lisp <H1>\n",
    "</center>"
   ]
  },
  {
   "cell_type": "markdown",
   "metadata": {
    "slideshow": {
     "slide_type": "fragment"
    }
   },
   "source": [
    "<center>\n",
    "<H1> <code>()</code><H1>\n",
    "</center>"
   ]
  },
  {
   "cell_type": "markdown",
   "metadata": {
    "slideshow": {
     "slide_type": "subslide"
    }
   },
   "source": [
    "<img src=\"imgs/xkcd.png\" width=\"100%\" align=\"center\"> "
   ]
  },
  {
   "cell_type": "markdown",
   "metadata": {
    "slideshow": {
     "slide_type": "subslide"
    }
   },
   "source": [
    "<center>\n",
    "<H1><code>() => Nil</code></H1>\n",
    "</center>"
   ]
  },
  {
   "cell_type": "markdown",
   "metadata": {
    "slideshow": {
     "slide_type": "fragment"
    }
   },
   "source": [
    "<center>\n",
    "<H1><code>true</code></H1>\n",
    "</center>"
   ]
  },
  {
   "cell_type": "markdown",
   "metadata": {
    "slideshow": {
     "slide_type": "fragment"
    }
   },
   "source": [
    "<center>\n",
    "<H1><code>false</code><H1>\n",
    "</center>"
   ]
  },
  {
   "cell_type": "markdown",
   "metadata": {
    "slideshow": {
     "slide_type": "subslide"
    }
   },
   "source": [
    "<center>\n",
    "<H1> quote / athfhriotal <H1>\n",
    "<code>(quote ()) => ()</code>\n",
    "</center>"
   ]
  },
  {
   "cell_type": "markdown",
   "metadata": {
    "slideshow": {
     "slide_type": "subslide"
    }
   },
   "source": [
    "<center>\n",
    "<H1> atom / adamh? <H1>\n",
    "<code>(atom ()) => true</code>\n",
    "</center>"
   ]
  },
  {
   "cell_type": "markdown",
   "metadata": {
    "slideshow": {
     "slide_type": "subslide"
    }
   },
   "source": [
    "<center>\n",
    "<H1> eq / cothrom_le? <H1>\n",
    "<code>(eq () ()) => true</code>\n",
    "</center>"
   ]
  },
  {
   "cell_type": "markdown",
   "metadata": {
    "slideshow": {
     "slide_type": "subslide"
    }
   },
   "source": [
    "<center>\n",
    "<H1> car / ceann <H1>\n",
    "<code>(car (quote (1 2 3))) => 1</code>\n",
    "</center>"
   ]
  },
  {
   "cell_type": "markdown",
   "metadata": {
    "slideshow": {
     "slide_type": "subslide"
    }
   },
   "source": [
    "<center>\n",
    "<H1> cdr / tóin <H1>\n",
    "<code>(cdr (quote (1 2 3))) => (2 3)</code>\n",
    "</center>"
   ]
  },
  {
   "cell_type": "markdown",
   "metadata": {
    "slideshow": {
     "slide_type": "subslide"
    }
   },
   "source": [
    "<center>\n",
    "<H1> cons / cons <H1>\n",
    "<code>(cons 1 ()) => (1)</code>\n",
    "</center>"
   ]
  },
  {
   "cell_type": "markdown",
   "metadata": {
    "slideshow": {
     "slide_type": "subslide"
    }
   },
   "source": [
    "<center>\n",
    "<H1> if / má </H1>\n",
    "<H1><code>(if cond expr1 expr2)</code></H1>\n",
    "</center>"
   ]
  },
  {
   "cell_type": "markdown",
   "metadata": {
    "slideshow": {
     "slide_type": "subslide"
    }
   },
   "source": [
    "<center>\n",
    "<H1> lambda / lambda </H1>\n",
    "<H1><code>((lambda (args) expr) (env))</code></H1>\n",
    "</center>"
   ]
  },
  {
   "cell_type": "markdown",
   "metadata": {
    "slideshow": {
     "slide_type": "subslide"
    }
   },
   "source": [
    "<center>\n",
    "<H1> So what who cares? <H1>\n",
    "</center>"
   ]
  },
  {
   "cell_type": "markdown",
   "metadata": {
    "slideshow": {
     "slide_type": "subslide"
    }
   },
   "source": [
    "\n",
    "<img src=\"imgs/eval.png\" align=\"center\"> "
   ]
  },
  {
   "cell_type": "markdown",
   "metadata": {
    "slideshow": {
     "slide_type": "slide"
    }
   },
   "source": [
    "<img src=\"imgs/outfile.jpg\" style=\"float: center; width: 100%\">"
   ]
  },
  {
   "cell_type": "code",
   "execution_count": 9,
   "metadata": {
    "collapsed": false,
    "slideshow": {
     "slide_type": "subslide"
    }
   },
   "outputs": [
    {
     "name": "stdout",
     "output_type": "stream",
     "text": [
      "(, \"car (quote (1 2 3)))\"\n",
      "car, \" (quote (1 2 3)))\"\n",
      "(, \"quote (1 2 3)))\"\n",
      "quote, \" (1 2 3)))\"\n",
      "(, \"1 2 3)))\"\n",
      "1, \" 2 3)))\"\n",
      "2, \" 3)))\"\n",
      "3, \")))\"\n",
      "), \"))\"\n",
      "), \")\"\n",
      "), \"\"\n"
     ]
    }
   ],
   "source": [
    "line = '(car (quote (1 2 3)))'\n",
    "\n",
    "import re\n",
    "tokenizer = r\"\"\"\\s*([(')]|\"(?:[\\\\].|[^\\\\\"])*\"|;.*|[^\\s('\";)]*)(.*)\"\"\"\n",
    "\n",
    "for i in range(11):\n",
    "    char, line = re.match(tokenizer, line).groups()\n",
    "    print('{}, \"{}\"'.format(char, line))\n"
   ]
  },
  {
   "cell_type": "code",
   "execution_count": 10,
   "metadata": {
    "collapsed": true,
    "slideshow": {
     "slide_type": "skip"
    }
   },
   "outputs": [],
   "source": [
    "# Tokenize\n",
    "import re\n",
    "\n",
    "class tokenize(object):\n",
    "\n",
    "    tokenizer = r\"\"\"\\s*([(')]|\"(?:[\\\\].|[^\\\\\"])*\"|;.*|[^\\s('\";)]*)(.*)\"\"\"\n",
    "\n",
    "    def __init__(self,  line):\n",
    "        self.line = line\n",
    "\n",
    "    def next_token(self):\n",
    "        while True:\n",
    "            token, self.line = re.match(line_obj.tokenizer, self.line).groups()\n",
    "\n",
    "            return token"
   ]
  },
  {
   "cell_type": "code",
   "execution_count": 11,
   "metadata": {
    "collapsed": false,
    "slideshow": {
     "slide_type": "subslide"
    }
   },
   "outputs": [
    {
     "name": "stdout",
     "output_type": "stream",
     "text": [
      "['car', ['quote', ['1', '2', '3']]]\n"
     ]
    }
   ],
   "source": [
    "\n",
    "def parse(input_line):\n",
    "    def read_ahead(token):\n",
    "        if '(' == token:\n",
    "            L = []\n",
    "            while True:\n",
    "                token = input_line.next_token()\n",
    "                if token == ')':\n",
    "                    return L\n",
    "                else:\n",
    "                    L.append(read_ahead(token))\n",
    "        elif token == ')':\n",
    "            raise SyntaxError('BAD SYNTAX')\n",
    "        else:\n",
    "            return token\n",
    "\n",
    "    token1 = input_line.next_token()\n",
    "    return read_ahead(token1)\n",
    "\n",
    "tree = parse(tokenize('(car (quote (1 2 3)))'))\n",
    "print(tree)"
   ]
  },
  {
   "cell_type": "code",
   "execution_count": 12,
   "metadata": {
    "collapsed": false,
    "slideshow": {
     "slide_type": "subslide"
    }
   },
   "outputs": [
    {
     "data": {
      "text/plain": [
       "'1'"
      ]
     },
     "execution_count": 12,
     "metadata": {},
     "output_type": "execute_result"
    }
   ],
   "source": [
    "def evaluate(tree):\n",
    "\n",
    "    if tree[0] == 'car':\n",
    "        return evaluate(tree[1])[0]\n",
    "\n",
    "    if tree[0] == 'quote':\n",
    "        return tree[1]\n",
    "    \n",
    "evaluate(tree)"
   ]
  },
  {
   "cell_type": "markdown",
   "metadata": {
    "slideshow": {
     "slide_type": "slide"
    }
   },
   "source": [
    "<center>\n",
    "<H1> Áireamhán Example! <H1>\n",
    "</center>"
   ]
  },
  {
   "cell_type": "markdown",
   "metadata": {
    "slideshow": {
     "slide_type": "slide"
    }
   },
   "source": [
    "<center>\n",
    "<code>\n",
    "<H1><code>Github:<a href=\"https://github.com/neal-o-r\">neal-o-r</a></H1></code>\n",
    "<H1><code>Twitter:<a href=\"https://twitter.com/neal_o_r\">neal_o_r</a></H1></code>\n",
    "<H1><code>www:<a href=\"http://www.n-o-r.xyz\">n-o-r.xyz</a></H1></code>\n",
    "<H1><code>pip3 install aireamhan</code></H1>\n",
    "</code>\n",
    "</center>"
   ]
  }
 ],
 "metadata": {
  "celltoolbar": "Slideshow",
  "kernelspec": {
   "display_name": "Python 3",
   "language": "python",
   "name": "python3"
  },
  "language_info": {
   "codemirror_mode": {
    "name": "ipython",
    "version": 3
   },
   "file_extension": ".py",
   "mimetype": "text/x-python",
   "name": "python",
   "nbconvert_exporter": "python",
   "pygments_lexer": "ipython3",
   "version": "3.6.0"
  }
 },
 "nbformat": 4,
 "nbformat_minor": 2
}
